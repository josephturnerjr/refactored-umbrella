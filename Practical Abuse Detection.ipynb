{
 "cells": [
  {
   "cell_type": "markdown",
   "metadata": {},
   "source": [
    "# Batteries Included: An opinionated toolset to get started analyzing your data\n",
    "## Do it live: Jupyter Notebook and IPython\n",
    "\"The Jupyter Notebook is an open-source web application that allows you to create and share documents that contain live code, equations, visualizations and narrative text.\"\n",
    "\n",
    "* Inline documentation - jump into definitions, parameter lists, etc.\n",
    "* Instant feedback - see results of executed code blocks immediately\n",
    "* Quick iteration - change code and rerun it without changing parts that already work\n",
    "* Lots of language support (we're going to focus on Python)\n",
    "* Tab completion - great if you can't type, like Mat\n",
    "\n",
    "Learn more at the [Jupyter website](https://jupyter.org/)"
   ]
  },
  {
   "cell_type": "code",
   "execution_count": null,
   "metadata": {},
   "outputs": [],
   "source": [
    "import pandas as pd\n",
    "import matplotlib.pyplot as plt\n",
    "import ipaddress\n",
    "import random\n",
    "import geopandas as gpd\n",
    "%matplotlib inline"
   ]
  },
  {
   "cell_type": "markdown",
   "metadata": {},
   "source": [
    "## Manage your data: Pandas (and Numpy)\n",
    "\"pandas is an open source, BSD-licensed library providing high-performance, easy-to-use data structures and data analysis tools for the Python programming language.\"\n",
    "\n",
    "* Load data from many sources - relational databases, text (csv, json, ...), excel, hdfs, ...\n",
    "  * Can be loaded locally or from a URL\n",
    "* Indexing - quick queries, rollups, ...\n",
    "* SQL-like operations - grouping, ordering, operators, ...\n",
    "* Plays well with others - lots of integrations for things like visualization, stats, machine learning, ...\n",
    "\n",
    "Learn more at [the pandas website](https://pandas.pydata.org/)"
   ]
  },
  {
   "cell_type": "code",
   "execution_count": null,
   "metadata": {},
   "outputs": [],
   "source": [
    "# The result of a loading operation is a DataFrame, one of the core pandas data structures\n",
    "df = pd.read_json(\"https://m3aawg47.s3.amazonaws.com/workbook/events.jsonl.gz\", lines=True)"
   ]
  },
  {
   "cell_type": "code",
   "execution_count": null,
   "metadata": {},
   "outputs": [],
   "source": [
    "df.describe()"
   ]
  },
  {
   "cell_type": "markdown",
   "metadata": {},
   "source": [
    "---"
   ]
  },
  {
   "cell_type": "markdown",
   "metadata": {},
   "source": [
    "# Easiest: Stateless rules\n",
    "Stateless rules use only information within the single event to make a decision.\n",
    "\n",
    ">    Example: Flag accounts who send emails with > X recipients.\n",
    "\n",
    "An offline process (like this one!) can help discover limits for stateless rules. \n",
    "\n",
    "The next cells will work the example given above: identifying accounts sending to a large number of recipients."
   ]
  },
  {
   "cell_type": "code",
   "execution_count": null,
   "metadata": {},
   "outputs": [],
   "source": [
    "# Pandas has built-in simple statistics\n",
    "df[\"nr_recipients\"].describe()"
   ]
  },
  {
   "cell_type": "code",
   "execution_count": null,
   "metadata": {},
   "outputs": [],
   "source": [
    "# Pandas also has built-in graphing via matplotlib\n",
    "df[\"nr_recipients\"].hist()\n",
    "plt.show()"
   ]
  },
  {
   "cell_type": "code",
   "execution_count": null,
   "metadata": {
    "scrolled": false
   },
   "outputs": [],
   "source": [
    "# Filtering operations return a new DataFrame (actually, a view into the original one)\n",
    "df[df.nr_recipients >= 60].head()"
   ]
  },
  {
   "cell_type": "code",
   "execution_count": null,
   "metadata": {},
   "outputs": [],
   "source": [
    "# Selecting a single column returns a Series, the other fundamental pandas data structure\n",
    "df[df.nr_recipients >= 60]['user_id'].unique()"
   ]
  },
  {
   "cell_type": "markdown",
   "metadata": {},
   "source": [
    "## CTF Challenge 1: Find all the users who sent emails that both a) had more than 10 recipients AND b) had an attached EXE file\n",
    "Hint: Check out [this section](https://pandas.pydata.org/pandas-docs/stable/user_guide/indexing.html#boolean-indexing) of the pandas docs.\n",
    "\n",
    "---"
   ]
  },
  {
   "cell_type": "markdown",
   "metadata": {},
   "source": [
    "# Slightly less easy: Joined data\n",
    "Beyond the simplest, stateless rules, you can get a lot of power by joining external data sources in.\n",
    "\n",
    "> Example: Geolocating source IP addresses for logins\n",
    "\n",
    "With data joined in, you can then apply otherwise stateless rules that leverage the joined data.\n",
    "\n",
    "> Example: Flag logins originating from an IP in the threat intelligence list\n",
    "\n",
    "The next cells will look at geolocating data and using visualization to identify interesting accounts."
   ]
  },
  {
   "cell_type": "code",
   "execution_count": null,
   "metadata": {
    "scrolled": true
   },
   "outputs": [],
   "source": [
    "# Don't worry, this won't be on the test\n",
    "\n",
    "# Load the geo data, then set up an \"interval index\" - a way to quickly check\n",
    "# if a number is between the two numbers in the interval (in this case, low and high IP\n",
    "# addresses)\n",
    "geo_df = pd.read_csv('https://m3aawg47.s3.amazonaws.com/workbook/simple-geo.csv.gz')\n",
    "v = list(zip(geo_df.lo_addr, geo_df.hi_addr))\n",
    "idx = pd.IntervalIndex.from_tuples(v, closed='both')\n",
    "geo_df.set_index(idx, inplace=True)\n",
    "geo_df.head()"
   ]
  },
  {
   "cell_type": "code",
   "execution_count": null,
   "metadata": {},
   "outputs": [],
   "source": [
    "import functools\n",
    "\n",
    "@functools.lru_cache()\n",
    "def lookup_ip_geo(ip):\n",
    "    addr = int(ipaddress.ip_address(ip))\n",
    "    return geo_df.loc[addr][['latitude', 'longitude', 'country_iso_code', 'city_name']]\n",
    "\n",
    "# Enhance our original DataFrame by joining the geolocation data!\n",
    "# This is going to take about 30s\n",
    "df[['latitude', 'longitude', 'country_iso_code', 'city_name']] = df.src_ip.apply(lookup_ip_geo)\n",
    "df.head()"
   ]
  },
  {
   "cell_type": "code",
   "execution_count": null,
   "metadata": {},
   "outputs": [],
   "source": [
    "gdf = gpd.GeoDataFrame(df, geometry=gpd.points_from_xy(df.longitude, df.latitude))\n",
    "world = gpd.read_file(gpd.datasets.get_path('naturalearth_lowres'))\n",
    "base = world.plot(figsize=(16, 16))\n",
    "gdf.plot(ax=base, marker='o', color='red', markersize=10);"
   ]
  },
  {
   "cell_type": "code",
   "execution_count": null,
   "metadata": {},
   "outputs": [],
   "source": [
    "# WHOA! THERE ARE PEOPLE OUTSIDE THE US!?\n",
    "df[df['country_iso_code'] != 'US']['user_id'].unique()"
   ]
  },
  {
   "cell_type": "markdown",
   "metadata": {},
   "source": [
    "## CTF Challenge 2: Find all accounts that had an event with either a source or destination IP in the threat list http://example.com/threat-list.fillmein.csv\n",
    "Hint: check out these links:\n",
    "  * https://pandas.pydata.org/pandas-docs/stable/reference/api/pandas.read_csv.html\n",
    "  * https://pandas.pydata.org/pandas-docs/stable/reference/api/pandas.Series.apply.html#pandas.Series.apply\n",
    "  * https://pandas.pydata.org/pandas-docs/stable/reference/api/pandas.DataFrame.merge.html#pandas.DataFrame.merge\n",
    "---"
   ]
  },
  {
   "cell_type": "markdown",
   "metadata": {},
   "source": [
    "# Intermediate: Partitioned state\n",
    "Collecting and comparing historical state opens the door to finding *changes* in behavior rather than specific behaviors. This enables a set of powerful rules that require less human effort in creation and maintenance, since they operate on entity-specific baselines rather than static rules.\n",
    "\n",
    "> Example: Collecting send rates by hour for each account\n",
    "\n",
    "We say that this state is *partitioned* because the state is scoped to a specific entity.\n",
    "\n",
    "With the state available for query, you can build analytics against it to illuminate interesting (or risky) changes in behavior.\n",
    "\n",
    "> Example: Flag accounts with an hourly sending volume three times their average\n",
    "\n",
    "The next cells will identify users that had a significant change in their daily sending volume."
   ]
  },
  {
   "cell_type": "code",
   "execution_count": null,
   "metadata": {
    "scrolled": true
   },
   "outputs": [],
   "source": [
    "df['user_id'].value_counts()"
   ]
  },
  {
   "cell_type": "code",
   "execution_count": null,
   "metadata": {},
   "outputs": [],
   "source": [
    "big_user = df.loc[df.user_id == '010683f9-d720-4ba1-ae6d-341c1a92b3f2']\n",
    "days = big_user.timestamp.dt.round('d')\n",
    "big_counts = big_user.groupby(days).user_id.count()\n",
    "big_counts.plot()\n",
    "big_counts.expanding().mean().plot()\n",
    "plt.show()"
   ]
  },
  {
   "cell_type": "code",
   "execution_count": null,
   "metadata": {},
   "outputs": [],
   "source": [
    "# pandas Series includes vector-valued comparisons (and other operators)\n",
    "big_counts > 3 * big_counts.expanding(7).mean()"
   ]
  },
  {
   "cell_type": "code",
   "execution_count": null,
   "metadata": {},
   "outputs": [],
   "source": [
    "for user_id in list(df.user_id.unique()):\n",
    "    big_user = df.loc[df.user_id == user_id]\n",
    "    hours = big_user.timestamp.dt.round('d')\n",
    "    big_counts = big_user.groupby(hours).user_id.count()\n",
    "    if any(big_counts > 3 * big_counts.expanding(7).mean()):\n",
    "        print(user_id)"
   ]
  },
  {
   "cell_type": "markdown",
   "metadata": {},
   "source": [
    "## CTF Challenge 3: Find the three users with the largest change in attachment behavior. In other words, find the three users who had the biggest increase in number of attachments per day. Is their behavior significantly different from the rest of the population?\n",
    "\n",
    "Hint: You can add a new column to a dataframe like this:\n",
    "\n",
    "    df['new_column_name'] = new_series\n",
    "    \n",
    "This is commonly used when you want to compute a new column from an existing column. For example, given our DataFrame from this workbook, you could do something like this:\n",
    "\n",
    "    df['twice_recipients'] = df['recipients'].map(lambda x: x * 2)\n",
    "\n",
    "\n",
    "---"
   ]
  },
  {
   "cell_type": "markdown",
   "metadata": {},
   "source": [
    "# Difficult: Unpartitioned state\n",
    "Recall from the last section that we say state is *partitioned* to mean that we are only tracking state on a per-entity basis. Analytics based on unpartitioned state, in contrast, need to look across entities to perform their function.\n",
    "\n",
    "> Example: Finding send rates outside of 3 standard deviations from the average across all users\n",
    "\n",
    "Operating on a full dataset, as we have in this notebook, actually *is* leveraging unpartitioned state - we have looked at, for example, the distribution of recipient counts to identify a reasonable threshold for simple rules. Unpartitioned state becomes challenging when it is implemented at scale. Tracking cross-entity state (or generating it from an indexed data store) is difficult to do efficiently. \n",
    "\n",
    "A typical implementation looks like what is called a \"lambda architecture\": a streaming path for fast application of analytics, and a batch-processing path for generation of thresholds or models to use in the streaming path. Building and tuning systems like this, particularly at scale, is a serious undertaking.\n",
    "\n",
    "---\n",
    "\n",
    "# CTF Challenge 4: Find the user who was NOT outside of the United States that had the highest rate of travel (i.e., distance between consecutive events / time between consecutive events).\n",
    "\n",
    "Hint: https://en.wikipedia.org/wiki/Geographical_distance\n",
    "\n",
    "Please use the \"Spherical Earth projected to a plane\" formula.\n",
    "\n",
    "---\n",
    "\n",
    "# YOU'RE DONE!\n",
    "\n",
    "You are now officially a data scientist. Well... you're on your way. Good luck, and come talk to us if you have any questions!\n",
    "\n",
    "---\n",
    "\n",
    "# _CTF Bonus round_\n",
    "\n",
    "These problems are a good bit harder.\n",
    "\n",
    "B1. Each user of the population in this dataset has a set of parameters that defined how the events were generated. For example, each user has an average number of recipients. These per-user parameters are drawn from a Poisson distribution. What is the parameter?\n",
    "\n",
    "B2. Which users had a significant shift in their daily operational hours?"
   ]
  }
 ],
 "metadata": {
  "kernelspec": {
   "display_name": "Python 3",
   "language": "python",
   "name": "python3"
  },
  "language_info": {
   "codemirror_mode": {
    "name": "ipython",
    "version": 3
   },
   "file_extension": ".py",
   "mimetype": "text/x-python",
   "name": "python",
   "nbconvert_exporter": "python",
   "pygments_lexer": "ipython3",
   "version": "3.7.3"
  }
 },
 "nbformat": 4,
 "nbformat_minor": 2
}
